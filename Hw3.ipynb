{
 "cells": [
  {
   "cell_type": "markdown",
   "metadata": {},
   "source": [
    "## Вариант 5"
   ]
  },
  {
   "cell_type": "code",
   "execution_count": 2,
   "metadata": {},
   "outputs": [],
   "source": [
    "import numpy as np\n",
    "import pandas as pd\n",
    "import scipy.stats as stats\n",
    "from scipy.stats import uniform\n",
    "import matplotlib.pyplot as plt\n",
    "import tqdm.notebook as tqdm\n",
    "from scipy.stats import norm"
   ]
  },
  {
   "cell_type": "markdown",
   "metadata": {},
   "source": [
    "Будем рассматривать нормальное распределение с параметрами $(mean=0, std=2)$"
   ]
  },
  {
   "cell_type": "markdown",
   "metadata": {},
   "source": [
    "### a) Исследование асимптотической несмещенности $\\hat{\\sigma^2}$"
   ]
  },
  {
   "cell_type": "markdown",
   "metadata": {},
   "source": [
    "Для вычисления $EX_{(i)}$ генерируется $k$ выборок, каждая из которых сортируется, а затем берется среднее $i$-ых элементов.\n",
    "\n",
    "И аналогично вычисляются $EX_{(i)}^2$ "
   ]
  },
  {
   "cell_type": "code",
   "execution_count": 22,
   "metadata": {},
   "outputs": [],
   "source": [
    "def get_mean_of_std_star(loc, scale, n, k):\n",
    "    \"\"\"\n",
    "    Function calculate E[std^2] by formula below\n",
    "    E[std^2] = E[(1/(2n)) * sum(X_{2i} - X_{2i-1})^2] = \n",
    "    = (1/(2n)) * sum(E[X_{2i}]^2 - EX_{2i}EX_{2i-1} + E[X_{2i-1}]^2)\n",
    "    \"\"\"\n",
    "    # generate random points\n",
    "    data = norm.rvs(loc=loc, scale=scale, size = (k, n))\n",
    "    data_sorted = np.sort(data, axis=1)\n",
    "    data_sorted_squered = data_sorted ** 2\n",
    "    mean_ordered_stat = data_sorted.mean(axis=0)\n",
    "    mean_ordered_squered_stat = data_sorted_squered.mean(axis=0)\n",
    "    stat = 0\n",
    "    half_n = int(n / 2)\n",
    "    for i in range(0, half_n):\n",
    "        stat += mean_ordered_squered_stat[2 * i + 1] -\\\n",
    "            mean_ordered_stat[2 * i + 1] * mean_ordered_stat[2 * i] +\\\n",
    "            mean_ordered_squered_stat[2 * i]\n",
    "    return stat / n"
   ]
  },
  {
   "cell_type": "code",
   "execution_count": 21,
   "metadata": {},
   "outputs": [
    {
     "name": "stdout",
     "output_type": "stream",
     "text": [
      "|std - std_star| = 0.061092288612941026, n = 100\n",
      "|std - std_star| = 0.04467408888647917, n = 200\n",
      "|std - std_star| = 0.009016597088159717, n = 400\n",
      "|std - std_star| = 0.008575512915684147, n = 800\n",
      "|std - std_star| = 0.0024399179975964636, n = 1600\n",
      "|std - std_star| = 0.0019819170500796623, n = 3200\n",
      "|std - std_star| = 0.0013185067836727349, n = 6400\n",
      "|std - std_star| = 0.001021458592344926, n = 12800\n",
      "|std - std_star| = 0.0006541098218817432, n = 25600\n",
      "|std - std_star| = 0.0001016129183319947, n = 51200\n",
      "|std - std_star| = 0.00044337008570405345, n = 102400\n",
      "|std - std_star| = 5.766209399560296e-05, n = 204800\n"
     ]
    }
   ],
   "source": [
    "true_mean = 0\n",
    "true_std = 2\n",
    "step = 2\n",
    "n = 100\n",
    "k = 1000\n",
    "for i in range(12):\n",
    "    mean_of_std_star = get_mean_of_std_star(loc=true_mean, scale=true_std, n=n, k=k)\n",
    "    print(f'|std - std_star| = {abs(true_std - mean_of_std_star)}, n = {n}')\n",
    "    n *= step"
   ]
  },
  {
   "cell_type": "markdown",
   "metadata": {},
   "source": [
    "Видно, что с ростом $n$ модуль разницы между дисперсией и мат.ожиданием оценкой дисперсии стремится к нулю, что указывает асимптотическую несмещенность"
   ]
  },
  {
   "cell_type": "markdown",
   "metadata": {},
   "source": [
    "### б) Исследование состоятельности $\\hat{\\sigma^2}$"
   ]
  },
  {
   "cell_type": "markdown",
   "metadata": {},
   "source": [
    "$\n",
    "E\\hat{\\sigma^2} \\rightarrow^P \\sigma^2 ~\\Leftrightarrow~ P(|\\hat{\\sigma^2} - \\sigma^2| \\ge \\epsilon) \\le \\frac{E|\\hat{\\sigma^2} - \\sigma^2|}{\\epsilon} \\approx \\frac{\\frac{1}{m}\\sum_{1 \\le i \\le m }{|\\hat{\\sigma_i^2} - \\sigma^2|}}{\\epsilon}\n",
    "$"
   ]
  },
  {
   "cell_type": "code",
   "execution_count": 24,
   "metadata": {},
   "outputs": [
    {
     "name": "stdout",
     "output_type": "stream",
     "text": [
      "t = 0.5919577371086739, n = 100\n",
      "t = 0.36482346959235284, n = 200\n",
      "t = 0.1572412229935711, n = 400\n",
      "t = 0.0835466609760207, n = 800\n",
      "t = 0.033638009342958235, n = 1600\n",
      "t = 0.01160287126621373, n = 3200\n",
      "t = 0.016402170891721024, n = 6400\n",
      "t = 0.0075396653795090085, n = 12800\n",
      "t = 0.004863594187515696, n = 25600\n",
      "t = 0.0030088219940660466, n = 51200\n",
      "t = 0.0019096449748077227, n = 102400\n",
      "t = 0.0013857358549864693, n = 204800\n"
     ]
    }
   ],
   "source": [
    "M = 10\n",
    "true_mean = 0\n",
    "true_std = 2\n",
    "step = 2\n",
    "eps = 0.1\n",
    "n = 100\n",
    "k = 1000\n",
    "for i in range(12):\n",
    "    stats = np.zeros(M)\n",
    "    for i in range(M):\n",
    "        mean_of_std_star = get_mean_of_std_star(loc=true_mean, scale=true_std, n=n, k=k)\n",
    "        stats[i] = abs(true_std - mean_of_std_star)\n",
    "    mean = stats.mean()\n",
    "    print(f't = {mean / eps}, n = {n}')\n",
    "    n *= step"
   ]
  },
  {
   "cell_type": "markdown",
   "metadata": {},
   "source": [
    "Как видно с ростом $n$ величина $t$ стремится к нулю, что указывает на состоятельность оценки."
   ]
  }
 ],
 "metadata": {
  "kernelspec": {
   "display_name": "Python 3",
   "language": "python",
   "name": "python3"
  },
  "language_info": {
   "codemirror_mode": {
    "name": "ipython",
    "version": 3
   },
   "file_extension": ".py",
   "mimetype": "text/x-python",
   "name": "python",
   "nbconvert_exporter": "python",
   "pygments_lexer": "ipython3",
   "version": "3.8.2"
  }
 },
 "nbformat": 4,
 "nbformat_minor": 4
}
