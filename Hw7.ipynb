{
 "cells": [
  {
   "cell_type": "markdown",
   "metadata": {},
   "source": [
    "# Вариант 4"
   ]
  },
  {
   "cell_type": "code",
   "execution_count": 1,
   "metadata": {},
   "outputs": [],
   "source": [
    "import numpy as np\n",
    "import matplotlib.pyplot as plt\n",
    "import seaborn as sns\n",
    "from scipy.stats import chi2 # нужен для подсчета квантилей хи-квадрат распределения\n",
    "from scipy.stats import norm # нужен для генерации выборки из нормального распределения"
   ]
  },
  {
   "cell_type": "code",
   "execution_count": 2,
   "metadata": {},
   "outputs": [],
   "source": [
    "def get_chi_2(os, es):\n",
    "    return np.sum(((os - es) ** 2) / es)"
   ]
  },
  {
   "cell_type": "code",
   "execution_count": 3,
   "metadata": {},
   "outputs": [],
   "source": [
    "def get_es(n, ps):\n",
    "    return n * ps"
   ]
  },
  {
   "cell_type": "code",
   "execution_count": 4,
   "metadata": {},
   "outputs": [],
   "source": [
    "def get_num_intervals(n):\n",
    "    \"\"\"\n",
    "    Так как p_i = 1 / {количество интервалов} и n * p_i > 5\n",
    "    => n / {количество интервалов} > 5 => {количество интервалов} < n / 5\n",
    "    => будем возвращать (n // 5) - 1\n",
    "    \"\"\"\n",
    "    return (n // 5) - 1"
   ]
  },
  {
   "cell_type": "code",
   "execution_count": 5,
   "metadata": {},
   "outputs": [],
   "source": [
    "def get_intervals(num_intervals, p, a, std):\n",
    "    \"\"\"\n",
    "    :param num_intervals: количество интервалов\n",
    "    :param p: вероятность на каждом интервале\n",
    "    :param a, std: параметры нормального распределения\n",
    "    :return: лист интервалов\n",
    "    \"\"\"\n",
    "    intervals = []\n",
    "    cur_prob = 0\n",
    "    for i in range(num_intervals):\n",
    "        l_prob = cur_prob\n",
    "        r_prob = l_prob + p\n",
    "        l = norm.ppf(l_prob, loc=a, scale=std)\n",
    "        r = norm.ppf(r_prob, loc=a, scale=std)\n",
    "        intervals.append((l, r))\n",
    "        cur_prob += p\n",
    "    return intervals"
   ]
  },
  {
   "cell_type": "code",
   "execution_count": 6,
   "metadata": {},
   "outputs": [],
   "source": [
    "def get_os(xs, intervals):\n",
    "    \"\"\"\n",
    "    :param xs: x1..xn - выборка( из нормального распредения)\n",
    "    :param intervals: интервали\n",
    "    :return: частоты точек x1..xn на заданных интервалах\n",
    "    \"\"\"\n",
    "    return [xs[(l < xs) & (xs < r)].size for (l, r) in intervals]"
   ]
  },
  {
   "cell_type": "code",
   "execution_count": 7,
   "metadata": {},
   "outputs": [],
   "source": [
    "def get_chi_stat(xs, a, std):\n",
    "    \"\"\"\n",
    "    :param xs: выборка\n",
    "    :param a: среднее\n",
    "    :param std: дисперсия\n",
    "    :return: статистику хи-квадрат\n",
    "    \"\"\"\n",
    "    n = xs.size\n",
    "    num_intervals = get_num_intervals(n)\n",
    "    p = 1 / num_intervals\n",
    "    intervals = get_intervals(num_intervals=num_intervals, p=p, a=a, std=std)\n",
    "    os = get_os(xs, intervals)\n",
    "    es = get_es(n, np.ones(num_intervals) * p)\n",
    "    return get_chi_2(np.array(os), es)"
   ]
  },
  {
   "cell_type": "markdown",
   "metadata": {},
   "source": [
    "Посчитаем ошибку 2-го рода:\n",
    "\n",
    "$\\alpha_1 = P(t(X_1..X_n) \\in D_{\\alpha} | H_1) = P(\\sum\\frac{O_i - np_i}{np_i} \\in D_{\\alpha} | H_1 ) = \\\\\n",
    "P((\\sum\\frac{O_i - np_i'}{np_i'} + x) \\in D_{\\alpha} | H_1 = \\\\\n",
    "P(-x \\le \\sum\\frac{O_i - np_i'}{np_i'} \\le \\chi^2_{\\alpha} - x)\n",
    "$ , где $x = \\sum\\frac{O_i - np_i'}{np_i'} - \\sum\\frac{O_i - np_i}{np_i}, p_i'$ -- вероятности на отрезках при верной альтернативе \n",
    "\n",
    "Значит мощность равна:\n",
    "\n",
    "$\\beta = 1 - \\alpha_1$"
   ]
  },
  {
   "cell_type": "code",
   "execution_count": 8,
   "metadata": {},
   "outputs": [],
   "source": [
    "def get_error_two(xs, C, a0, a1, std):\n",
    "    \"\"\"\n",
    "    :param a0: среднее по нулевой гипотезе\n",
    "    :param a1: среднее по альтернативе\n",
    "    :param C: квантиль уровня (1-alpha)\n",
    "    :param std: дисперсия\n",
    "    :return: ошибка 2-рода\n",
    "    \"\"\"\n",
    "    t = get_chi_stat(xs, a0, std)\n",
    "    t_ = get_chi_stat(xs, a1, std)\n",
    "    x = t - t_\n",
    "    m = get_num_intervals(xs.size)\n",
    "    return chi2.cdf(C - x, df=m) - chi2.cdf(-x, df=m)"
   ]
  },
  {
   "cell_type": "code",
   "execution_count": 9,
   "metadata": {},
   "outputs": [],
   "source": [
    "def get_power(xs, C, a0, a1, std):\n",
    "    \"\"\"\n",
    "    :param a0: среднее по нулевой гипотезе\n",
    "    :param a1: среднее по альтернативе\n",
    "    :param C: квантиль уровня (1-alpha)\n",
    "    :param std: дисперсия\n",
    "    :return: мощность\n",
    "    \"\"\"\n",
    "    return 1 - get_error_two(xs, C, a0, a1, std)"
   ]
  },
  {
   "cell_type": "code",
   "execution_count": 10,
   "metadata": {},
   "outputs": [],
   "source": [
    "def print_accepting(chi_stat, C):\n",
    "    \"\"\"\n",
    "    Функция печатает решение о принятии или непринятии нулевой гипотезы\n",
    "    \"\"\"\n",
    "    if chi_stat < C:\n",
    "        print(\"H0 is accepted\")\n",
    "        print(f'Because chi statistics = {chi_stat} in (0, {C})')\n",
    "    else:\n",
    "        print(\"H0 isn't accepted\")\n",
    "        print(f'Because chi statistics = {chi_stat} not in (0, {C})')"
   ]
  },
  {
   "cell_type": "code",
   "execution_count": 11,
   "metadata": {},
   "outputs": [],
   "source": [
    "def simple_paint(xs, ys, title, x_name, y_name):\n",
    "    plt.title(title)\n",
    "    plt.xlabel(x_name)\n",
    "    plt.ylabel(y_name)\n",
    "    plt.plot(xs, ys)\n",
    "    plt.show()"
   ]
  },
  {
   "cell_type": "markdown",
   "metadata": {},
   "source": [
    "### Задание 1"
   ]
  },
  {
   "cell_type": "markdown",
   "metadata": {},
   "source": [
    "Пусть выборка $X_1,..X_n$ из $N(0,1)$\n",
    "\n",
    "Пусть $H_0: a=0;~H_1: a \\neq 0 \\\\\n",
    "\\Rightarrow $ критическая область при ошибке 1-го рода $\\alpha_0=0.05$ равна $(\\chi^2_{0.95}, +\\infty)$"
   ]
  },
  {
   "cell_type": "code",
   "execution_count": 12,
   "metadata": {},
   "outputs": [
    {
     "name": "stdout",
     "output_type": "stream",
     "text": [
      "H0 is accepted\n",
      "Because chi statistics = 20141.59262 in (0, 20328.08737478791)\n"
     ]
    }
   ],
   "source": [
    "n = 100000\n",
    "a = 0\n",
    "std = 1\n",
    "xs = norm.rvs(size=n, loc=a, scale=std)\n",
    "alpha_0 = 0.05\n",
    "# получаем кол-во интервалов\n",
    "m = get_num_intervals(n)\n",
    "# вычисляем границу критической области\n",
    "C = chi2.ppf(1 - alpha_0, df=m - 1)\n",
    "# вычисляем статистику хи-квадрат\n",
    "chi_stat = get_chi_stat(xs, a, std)\n",
    "print_accepting(chi_stat, C)"
   ]
  },
  {
   "cell_type": "markdown",
   "metadata": {},
   "source": [
    "Однако, если $X_1,..,X_n$ на самом деле из $N(1, 1)$"
   ]
  },
  {
   "cell_type": "code",
   "execution_count": 13,
   "metadata": {},
   "outputs": [
    {
     "name": "stdout",
     "output_type": "stream",
     "text": [
      "H0 isn't accepted\n",
      "Because chi statistics = 194149.69178000002 not in (0, 20328.08737478791)\n"
     ]
    }
   ],
   "source": [
    "a1 = 1\n",
    "xs = norm.rvs(size=n, loc=a1, scale=std)\n",
    "chi_stat = get_chi_stat(xs, a, std)\n",
    "print_accepting(chi_stat, C)"
   ]
  },
  {
   "cell_type": "markdown",
   "metadata": {},
   "source": [
    "### Задание 2"
   ]
  },
  {
   "cell_type": "markdown",
   "metadata": {},
   "source": [
    "Будем изменять среднее в альтернативе от -1 до 2 и смотреть как это сказывается на мощности.\n",
    "\n",
    "То есть будем смотреть на $H_1:a=(-1,2)$ при шаге $step=0.2$"
   ]
  },
  {
   "cell_type": "markdown",
   "metadata": {},
   "source": [
    "Зафиксируем прежние параметры(когда основная гипотеза верна)"
   ]
  },
  {
   "cell_type": "code",
   "execution_count": 14,
   "metadata": {},
   "outputs": [],
   "source": [
    "n = 1000\n",
    "a = 0\n",
    "std = 1\n",
    "xs = norm.rvs(size=n, loc=a, scale=std)\n",
    "alpha_0 = 0.05\n",
    "m = get_num_intervals(n)\n",
    "C = chi2.ppf(1 - alpha_0, df=m - 1)\n",
    "means = np.linspace(-1, 2, 20)"
   ]
  },
  {
   "cell_type": "code",
   "execution_count": 15,
   "metadata": {},
   "outputs": [],
   "source": [
    "powers = [get_power(xs=xs, C=C, a0=a, a1=a_1, std=1) for a_1 in means]"
   ]
  },
  {
   "cell_type": "code",
   "execution_count": 16,
   "metadata": {},
   "outputs": [
    {
     "data": {
      "image/png": "[encoded data removed]",
      "text/plain": [
       "<Figure size 432x288 with 1 Axes>"
      ]
     },
     "metadata": {
      "needs_background": "light"
     },
     "output_type": "display_data"
    }
   ],
   "source": [
    "simple_paint(xs=means, ys=powers, title=\"Power(alternative)\", x_name=\"mean\", y_name=\"power\")"
   ]
  },
  {
   "cell_type": "markdown",
   "metadata": {},
   "source": [
    "Зафиксируем прежние параметры(когда основная гипотеза неверна)"
   ]
  },
  {
   "cell_type": "code",
   "execution_count": 17,
   "metadata": {},
   "outputs": [],
   "source": [
    "a0 = 0.5\n",
    "powers = [get_power(xs=xs, C=C, a0=a0, a1=a_1, std=1) for a_1 in means]"
   ]
  },
  {
   "cell_type": "code",
   "execution_count": 18,
   "metadata": {},
   "outputs": [
    {
     "data": {
      "image/png": "[encoded data removed]",
      "text/plain": [
       "<Figure size 432x288 with 1 Axes>"
      ]
     },
     "metadata": {
      "needs_background": "light"
     },
     "output_type": "display_data"
    }
   ],
   "source": [
    "simple_paint(xs=means, ys=powers, title=\"Power(alternative)\", x_name=\"mean\", y_name=\"power\")"
   ]
  },
  {
   "cell_type": "markdown",
   "metadata": {},
   "source": [
    "Вывод: зависимость мощности критерия против альтернативы -- есть: чем ближе значение альтернативного среднего к основному среднему, тем менее мощным становится критерий "
   ]
  }
 ],
 "metadata": {
  "kernelspec": {
   "display_name": "Python 3",
   "language": "python",
   "name": "python3"
  },
  "language_info": {
   "codemirror_mode": {
    "name": "ipython",
    "version": 3
   },
   "file_extension": ".py",
   "mimetype": "text/x-python",
   "name": "python",
   "nbconvert_exporter": "python",
   "pygments_lexer": "ipython3",
   "version": "3.8.2"
  }
 },
 "nbformat": 4,
 "nbformat_minor": 4
}
