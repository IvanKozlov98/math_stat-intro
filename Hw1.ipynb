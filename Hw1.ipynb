{
 "cells": [
  {
   "cell_type": "markdown",
   "metadata": {},
   "source": [
    "$\n",
    "Пусть ~ T(X_n) = sup_x(F_n(x) - F(x)). \\\\\n",
    "Тогда~ sup_x(F_n(x) - F(x)) \\rightarrow^P 0 ~\\Leftrightarrow~ P(|T(X_n)| \\ge \\epsilon) \\le \\frac{E|T(X_n)|}{\\epsilon} \\approx \\frac{\\frac{1}{m}\\sum_{1 \\le i \\le m }{|T(X^i_n)|}}{\\epsilon}\n",
    "$"
   ]
  },
  {
   "cell_type": "markdown",
   "metadata": {},
   "source": [
    "Будем работать с экспоненциальным распределением. (т.е. считать, что $X_i \\sim E(1)$)\n",
    "\n",
    "Зафиксируем $M=10, \\epsilon=0.1.\\\\$\n",
    "Для $\\epsilon=1$ покажем, что с ростом $n$ величина $t:=\\frac{\\frac{1}{m}\\sum_{1 \\le i \\le m }{|T(X^i_n)|}}{\\epsilon} \\rightarrow 0$, что означает сходимость $T(X_n)$ по вероятности к нулю"
   ]
  },
  {
   "cell_type": "code",
   "execution_count": 11,
   "metadata": {},
   "outputs": [],
   "source": [
    "import numpy as np\n",
    "from scipy.stats import expon"
   ]
  },
  {
   "cell_type": "code",
   "execution_count": 12,
   "metadata": {},
   "outputs": [],
   "source": [
    "def get_sup_by_abs(X : np.ndarray):\n",
    "    n = X.size\n",
    "    num_less_than = np.zeros(n)\n",
    "    num_less_than[np.argsort(X)] = np.arange(n)\n",
    "    empirical_cdf = [(num_less_than[i] + 1) / n for i in range(n)]\n",
    "    sup = 0\n",
    "    for i in range(n):\n",
    "        cur = np.abs(empirical_cdf[i] - expon.cdf(X[i]))\n",
    "        sup = max(cur, sup)\n",
    "    return sup"
   ]
  },
  {
   "cell_type": "code",
   "execution_count": 20,
   "metadata": {},
   "outputs": [
    {
     "name": "stdout",
     "output_type": "stream",
     "text": [
      "t = 0.8542924371478466, n = 100\n",
      "t = 0.597874095185676, n = 200\n",
      "t = 0.3809036650288592, n = 400\n",
      "t = 0.27945280024532376, n = 800\n",
      "t = 0.2301588086254018, n = 1600\n",
      "t = 0.17733933410566827, n = 3200\n",
      "t = 0.1119108622855645, n = 6400\n",
      "t = 0.08004609432155635, n = 12800\n",
      "t = 0.050377095210462186, n = 25600\n",
      "t = 0.03354852463276591, n = 51200\n",
      "t = 0.02404244152427176, n = 102400\n",
      "t = 0.01634975121317278, n = 204800\n"
     ]
    }
   ],
   "source": [
    "M = 10\n",
    "eps = 0.1\n",
    "step = 2\n",
    "n = 100\n",
    "for i in range(12):\n",
    "    stats = np.zeros(M)\n",
    "    for i in range(M):\n",
    "        stats[i] = get_sup_by_abs(expon.rvs(size=n))\n",
    "    mean = stats.mean()\n",
    "    print(f't = {mean / eps}, n = {n}')\n",
    "    n *= step"
   ]
  },
  {
   "cell_type": "markdown",
   "metadata": {},
   "source": [
    "Как видно с ростом $n$ величина $t$ стремится к нулю."
   ]
  },
  {
   "cell_type": "code",
   "execution_count": null,
   "metadata": {},
   "outputs": [],
   "source": []
  }
 ],
 "metadata": {
  "kernelspec": {
   "display_name": "Python 3",
   "language": "python",
   "name": "python3"
  },
  "language_info": {
   "codemirror_mode": {
    "name": "ipython",
    "version": 3
   },
   "file_extension": ".py",
   "mimetype": "text/x-python",
   "name": "python",
   "nbconvert_exporter": "python",
   "pygments_lexer": "ipython3",
   "version": "3.8.2"
  }
 },
 "nbformat": 4,
 "nbformat_minor": 4
}
